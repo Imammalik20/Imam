{
 "cells": [
  {
   "cell_type": "markdown",
   "metadata": {},
   "source": [
    "# <div class=\"alert alert-success\">\n",
    "<h3><center>\" Diagnosa Penyakit Kanker Payudara Menggunakan Jaringan Saraf Tiruan\"<center> </h2>\n",
    "<ul>\n",
    "<li style=\"text-align: left;\">\n",
    "<h3><strong>NAMA &emsp; &emsp;&emsp; &emsp; &emsp; &emsp;: Imam Malik</strong></h3>\n",
    "</li>\n",
    "<li style=\"text-align: left;\">\n",
    "<h3><strong>NIM &emsp;&emsp;&emsp;&emsp;&emsp;&emsp;&emsp;&emsp; : 09011381621093</strong></h3>\n",
    "</li>\n"
   ]
  },
  {
   "cell_type": "code",
   "execution_count": 1,
   "metadata": {},
   "outputs": [
    {
     "name": "stderr",
     "output_type": "stream",
     "text": [
      "C:\\Users\\Linda\\Anaconda3\\lib\\site-packages\\h5py\\__init__.py:36: FutureWarning: Conversion of the second argument of issubdtype from `float` to `np.floating` is deprecated. In future, it will be treated as `np.float64 == np.dtype(float).type`.\n",
      "  from ._conv import register_converters as _register_converters\n",
      "Using TensorFlow backend.\n"
     ]
    }
   ],
   "source": [
    "import numpy as np\n",
    "import pandas as pd\n",
    "import matplotlib.pyplot as plt\n",
    "import keras\n",
    "from keras.models import Sequential\n",
    "from keras.layers import Dense\n",
    "from sklearn.model_selection import train_test_split\n",
    "from sklearn.preprocessing import MinMaxScaler\n",
    "np.random.seed(7)"
   ]
  },
  {
   "cell_type": "markdown",
   "metadata": {},
   "source": [
    "Berikut adalah Daftar Modul yang digunakan :\n",
    "\n",
    "      - Numpy = Modul ini berfungsi untuk melakukan beberapa fungsi matematika seperti array, dan matriks. Pada program \n",
    "                ini numpy digunakan untuk generate array untuk membuat grafik confusion matriks.\n",
    "\n",
    "      - Pandas = Modul ini akan digunakan untuk Load Dataset, karena pandas lebih baik untuk load data dengan skala besar.\n",
    "\n",
    "      - Matplotlib = Modul ini digunakan untuk mencetak grafik pada beberapa event seperti grafik distribusi variabel, \n",
    "                     grafik confusion matrix, grafik akurasi, dll.\n",
    "\n",
    "      - Keras = Modul ini digunakan untuk membuat, menambah, dan mengevaluasi model neural network.\n",
    "\n",
    "      - Sklearn = Modul ini adalah salah satu modul utama yang digunakan untuk mengolah data Machine Learning seperti  \n",
    "                  preprocessing, dan lainnya."
   ]
  },
  {
   "cell_type": "code",
   "execution_count": 2,
   "metadata": {},
   "outputs": [],
   "source": [
    "df = np.loadtxt(\"BreastCancerTissue.csv\", delimiter=\",\")"
   ]
  },
  {
   "cell_type": "markdown",
   "metadata": {},
   "source": [
    "Kode di atas digunakan untuk load dataset dengan nama \"breastCancerTissue.csv\""
   ]
  },
  {
   "cell_type": "code",
   "execution_count": 3,
   "metadata": {},
   "outputs": [
    {
     "data": {
      "text/plain": [
       "array([[ 5.,  1.,  1., ...,  3.,  1.,  1.],\n",
       "       [ 5.,  4.,  4., ...,  3.,  2.,  1.],\n",
       "       [ 3.,  1.,  1., ...,  3.,  1.,  1.],\n",
       "       ...,\n",
       "       [ 5., 10., 10., ...,  8., 10.,  2.],\n",
       "       [ 4.,  8.,  6., ..., 10.,  6.,  1.],\n",
       "       [ 4.,  8.,  8., ..., 10.,  4.,  1.]])"
      ]
     },
     "execution_count": 3,
     "metadata": {},
     "output_type": "execute_result"
    }
   ],
   "source": [
    "X = df[:,0:9]\n",
    "Y = df[:,9]\n",
    "X"
   ]
  },
  {
   "cell_type": "markdown",
   "metadata": {},
   "source": [
    "Nilai variabel X adalah Nilai Input.\n"
   ]
  },
  {
   "cell_type": "code",
   "execution_count": 4,
   "metadata": {},
   "outputs": [
    {
     "data": {
      "text/plain": [
       "array([0., 0., 0., 0., 0., 1., 0., 0., 0., 0., 0., 0., 1., 0., 1., 1., 0.,\n",
       "       0., 1., 0., 1., 1., 0., 0., 1., 0., 0., 0., 0., 0., 0., 1., 0., 0.,\n",
       "       0., 1., 0., 1., 1., 1., 1., 1., 1., 0., 1., 0., 0., 1., 1., 1., 1.,\n",
       "       1., 1., 1., 1., 1., 1., 1., 1., 0., 1., 1., 0., 1., 0., 1., 1., 0.,\n",
       "       0., 1., 0., 1., 1., 0., 0., 0., 0., 0., 0., 0., 0., 0., 1., 1., 1.,\n",
       "       1., 0., 0., 0., 0., 0., 0., 0., 0., 0., 0., 1., 1., 1., 1., 0., 1.,\n",
       "       1., 1., 1., 1., 0., 1., 0., 1., 1., 1., 0., 0., 0., 1., 0., 0., 0.,\n",
       "       0., 1., 1., 1., 0., 1., 0., 1., 0., 0., 0., 1., 0., 0., 0., 0., 0.,\n",
       "       0., 0., 0., 1., 0., 0., 1., 0., 0., 1., 0., 1., 1., 0., 0., 1., 0.,\n",
       "       0., 1., 1., 0., 0., 0., 0., 1., 1., 0., 0., 0., 0., 0., 1., 1., 1.,\n",
       "       0., 1., 0., 1., 0., 0., 0., 1., 1., 0., 1., 1., 1., 0., 1., 1., 0.,\n",
       "       0., 0., 0., 0., 0., 0., 0., 1., 1., 0., 0., 0., 1., 1., 0., 0., 0.,\n",
       "       1., 1., 0., 1., 1., 1., 0., 0., 1., 0., 0., 1., 1., 1., 1., 0., 1.,\n",
       "       1., 0., 1., 1., 1., 0., 1., 0., 1., 1., 1., 1., 0., 0., 0., 0., 0.,\n",
       "       0., 1., 1., 0., 0., 1., 0., 1., 1., 1., 0., 0., 0., 0., 1., 1., 1.,\n",
       "       1., 1., 0., 1., 1., 1., 0., 1., 0., 1., 1., 0., 0., 0., 0., 1., 0.,\n",
       "       0., 1., 1., 1., 1., 1., 0., 1., 1., 0., 0., 1., 1., 0., 0., 1., 1.,\n",
       "       0., 1., 0., 1., 1., 0., 0., 1., 0., 0., 0., 1., 0., 0., 1., 1., 0.,\n",
       "       0., 1., 0., 1., 0., 0., 1., 0., 1., 1., 1., 0., 0., 1., 1., 0., 1.,\n",
       "       0., 0., 1., 1., 0., 0., 0., 1., 0., 0., 0., 1., 1., 0., 0., 0., 1.,\n",
       "       0., 0., 1., 1., 1., 1., 1., 1., 0., 0., 0., 0., 1., 1., 0., 0., 0.,\n",
       "       0., 0., 0., 0., 0., 0., 0., 0., 0., 0., 1., 0., 0., 0., 0., 1., 0.,\n",
       "       0., 0., 0., 1., 0., 0., 0., 0., 0., 0., 0., 0., 1., 0., 0., 0., 0.,\n",
       "       0., 0., 0., 0., 0., 0., 1., 0., 1., 0., 1., 0., 0., 0., 0., 1., 0.,\n",
       "       0., 0., 1., 0., 1., 0., 0., 0., 0., 0., 0., 0., 1., 1., 0., 0., 0.,\n",
       "       1., 0., 0., 0., 0., 0., 0., 0., 0., 1., 0., 0., 0., 1., 0., 1., 1.,\n",
       "       1., 0., 0., 0., 0., 0., 0., 0., 1., 1., 1., 0., 0., 0., 0., 0., 0.,\n",
       "       0., 0., 0., 0., 0., 1., 0., 0., 1., 1., 0., 0., 0., 1., 1., 1., 0.,\n",
       "       1., 0., 1., 0., 0., 0., 0., 0., 0., 0., 0., 0., 0., 0., 0., 1., 0.,\n",
       "       0., 0., 0., 0., 0., 0., 1., 1., 0., 0., 0., 1., 0., 0., 1., 1., 0.,\n",
       "       0., 0., 0., 0., 0., 1., 0., 0., 0., 0., 0., 0., 0., 0., 0., 0., 0.,\n",
       "       0., 0., 0., 0., 1., 0., 0., 1., 0., 0., 0., 0., 0., 0., 0., 0., 0.,\n",
       "       0., 0., 0., 0., 0., 0., 1., 0., 0., 1., 1., 1., 1., 0., 0., 1., 0.,\n",
       "       0., 0., 0., 0., 0., 1., 1., 0., 0., 0., 1., 0., 1., 0., 1., 1., 1.,\n",
       "       0., 1., 0., 0., 0., 0., 0., 0., 0., 0., 1., 1., 1., 0., 0., 1., 0.,\n",
       "       1., 1., 1., 0., 0., 0., 0., 0., 0., 0., 0., 0., 0., 0., 0., 1., 0.,\n",
       "       0., 0., 0., 0., 0., 1., 0., 0., 1., 0., 0., 0., 0., 0., 0., 0., 0.,\n",
       "       0., 0., 0., 1., 0., 0., 0., 0., 0., 0., 0., 0., 0., 1., 0., 0., 0.,\n",
       "       0., 0., 0., 0., 0., 0., 1., 1., 1., 0., 0., 0., 0., 0., 0., 0., 0.,\n",
       "       0., 1., 1., 0., 0., 0., 0., 0., 0., 0., 0., 0., 1., 0., 0., 0., 0.,\n",
       "       1., 1., 1.])"
      ]
     },
     "execution_count": 4,
     "metadata": {},
     "output_type": "execute_result"
    }
   ],
   "source": [
    "Y"
   ]
  },
  {
   "cell_type": "markdown",
   "metadata": {},
   "source": [
    "Nilai Variabel Y adalah Output\n",
    "\n",
    "Nilai Outputnya adalah 0 dan 1."
   ]
  },
  {
   "cell_type": "code",
   "execution_count": 5,
   "metadata": {},
   "outputs": [],
   "source": [
    "scaler = MinMaxScaler()\n",
    "BreastCancerTissue = scaler.fit_transform(X)"
   ]
  },
  {
   "cell_type": "code",
   "execution_count": 6,
   "metadata": {},
   "outputs": [
    {
     "data": {
      "text/plain": [
       "(683, 2)"
      ]
     },
     "execution_count": 6,
     "metadata": {},
     "output_type": "execute_result"
    }
   ],
   "source": [
    "from keras.utils.np_utils import to_categorical\n",
    "Y_categorical = to_categorical(Y)\n",
    "Y_categorical.shape"
   ]
  },
  {
   "cell_type": "code",
   "execution_count": 7,
   "metadata": {},
   "outputs": [],
   "source": [
    "model = Sequential()"
   ]
  },
  {
   "cell_type": "markdown",
   "metadata": {},
   "source": [
    "Lapisan Pertama dalam model Sequential"
   ]
  },
  {
   "cell_type": "code",
   "execution_count": 8,
   "metadata": {},
   "outputs": [],
   "source": [
    "model.add(Dense(50, input_dim=9, activation='relu'))"
   ]
  },
  {
   "cell_type": "markdown",
   "metadata": {},
   "source": [
    "Kodingan di atas merupakan Layer pertama dari Neural Network.\n",
    "\n",
    "   * Dense 50 = Neural Network pada layer pertama terdiri dari 50 neuron.\n",
    "\n",
    "   * Relu = Merupakan fungsi aktivasi yang digunakan pada layer ini.\n",
    "   \n",
    "   * Input dim 9 = Berdasarkan dataset yang dipakai, terdiri dari 10 kategori. 9 kategori input, dan 1 kategori output."
   ]
  },
  {
   "cell_type": "code",
   "execution_count": 9,
   "metadata": {},
   "outputs": [],
   "source": [
    "model.add(Dense(40, activation='relu'))"
   ]
  },
  {
   "cell_type": "markdown",
   "metadata": {},
   "source": [
    "Kodingan di atas merupakan Layer Kedua dari Neural Network.\n",
    "\n",
    "   * Dense 40 = Neural Network pada layer pertama ini terdiri dari 40 neuron.\n",
    "\n",
    "   * Relu = Merupakan fungsi aktivasi yang digunakan pada layer ini."
   ]
  },
  {
   "cell_type": "markdown",
   "metadata": {},
   "source": [
    "model.add(Dense(2, activation='softmax'))"
   ]
  },
  {
   "cell_type": "code",
   "execution_count": null,
   "metadata": {},
   "outputs": [],
   "source": [
    "    * Dense 2 = Neural Network yang saya buat pada layer terakhir ini terdiri dari 2 neuron, neuron inilah yang akan  \n",
    "                menghasilkan output berdasarkan dataset yang ada dan memprediksi apakah terdapat penipuan kartu kredit atau \n",
    "                tidak.\n",
    "\n",
    "    * Softmax = Merupakan fungsi lapisan jaringan saraf yang digunakan pada layer ini.\n",
    "                Probabilitas yang dihitung akan berada dikisaran 0 dan 1, jumlah semua probabilitas akan sama dengan 1."
   ]
  },
  {
   "cell_type": "code",
   "execution_count": 11,
   "metadata": {},
   "outputs": [],
   "source": [
    "model.compile(loss='categorical_crossentropy',optimizer='adam', metrics=['accuracy'] )"
   ]
  },
  {
   "cell_type": "markdown",
   "metadata": {},
   "source": [
    "Fungsi kompilasi pada model\n",
    "\n",
    "     * Loss = Pengidentifikasi string dari fungsi kerugian yang ada (seperti kategorikal_crossentropy), atau dapat \n",
    "              menjadi fungsi obyektif. \n",
    "              Tujuan yang akan coba diminimalkan oleh model.\n",
    "\n",
    "     * Optimizer = Pengenal string dari pengoptimal yang ada (seperti adam), atau turunan dari kelas Pengoptimal. \n",
    "\n",
    "     * Metrics = Untuk masalah klasifikasi apa pun, mengaturnya ke metrik = ['akurasi']. Metrik bisa menjadi  \n",
    "                 pengidentifikasi string dari metrik yang ada atau fungsi metrik khusus."
   ]
  },
  {
   "cell_type": "code",
   "execution_count": 12,
   "metadata": {},
   "outputs": [
    {
     "name": "stdout",
     "output_type": "stream",
     "text": [
      "Train on 341 samples, validate on 342 samples\n",
      "Epoch 1/100\n",
      "341/341 [==============================] - 0s 996us/step - loss: 0.5764 - acc: 0.8182 - val_loss: 0.5659 - val_acc: 0.7953\n",
      "Epoch 2/100\n",
      "341/341 [==============================] - 0s 188us/step - loss: 0.4009 - acc: 0.9355 - val_loss: 0.3603 - val_acc: 0.9649\n",
      "Epoch 3/100\n",
      "341/341 [==============================] - 0s 176us/step - loss: 0.2472 - acc: 0.9619 - val_loss: 0.1911 - val_acc: 0.9766\n",
      "Epoch 4/100\n",
      "341/341 [==============================] - 0s 140us/step - loss: 0.1704 - acc: 0.9589 - val_loss: 0.1228 - val_acc: 0.9795\n",
      "Epoch 5/100\n",
      "341/341 [==============================] - 0s 222us/step - loss: 0.1385 - acc: 0.9560 - val_loss: 0.0887 - val_acc: 0.9766\n",
      "Epoch 6/100\n",
      "341/341 [==============================] - 0s 176us/step - loss: 0.1280 - acc: 0.9531 - val_loss: 0.0757 - val_acc: 0.9766\n",
      "Epoch 7/100\n",
      "341/341 [==============================] - 0s 162us/step - loss: 0.1190 - acc: 0.9619 - val_loss: 0.0707 - val_acc: 0.9766\n",
      "Epoch 8/100\n",
      "341/341 [==============================] - 0s 167us/step - loss: 0.1138 - acc: 0.9589 - val_loss: 0.0619 - val_acc: 0.9825\n",
      "Epoch 9/100\n",
      "341/341 [==============================] - 0s 152us/step - loss: 0.1113 - acc: 0.9677 - val_loss: 0.0612 - val_acc: 0.9854\n",
      "Epoch 10/100\n",
      "341/341 [==============================] - 0s 152us/step - loss: 0.1075 - acc: 0.9589 - val_loss: 0.0556 - val_acc: 0.9825\n",
      "Epoch 11/100\n",
      "341/341 [==============================] - 0s 140us/step - loss: 0.1060 - acc: 0.9677 - val_loss: 0.0551 - val_acc: 0.9825\n",
      "Epoch 12/100\n",
      "341/341 [==============================] - 0s 188us/step - loss: 0.1024 - acc: 0.9677 - val_loss: 0.0525 - val_acc: 0.9825\n",
      "Epoch 13/100\n",
      "341/341 [==============================] - 0s 164us/step - loss: 0.1011 - acc: 0.9619 - val_loss: 0.0536 - val_acc: 0.9854\n",
      "Epoch 14/100\n",
      "341/341 [==============================] - 0s 180us/step - loss: 0.0984 - acc: 0.9677 - val_loss: 0.0515 - val_acc: 0.9854\n",
      "Epoch 15/100\n",
      "341/341 [==============================] - 0s 133us/step - loss: 0.0979 - acc: 0.9677 - val_loss: 0.0536 - val_acc: 0.9854\n",
      "Epoch 16/100\n",
      "341/341 [==============================] - 0s 198us/step - loss: 0.0970 - acc: 0.9677 - val_loss: 0.0495 - val_acc: 0.9825\n",
      "Epoch 17/100\n",
      "341/341 [==============================] - 0s 158us/step - loss: 0.0954 - acc: 0.9677 - val_loss: 0.0472 - val_acc: 0.9825\n",
      "Epoch 18/100\n",
      "341/341 [==============================] - 0s 154us/step - loss: 0.0930 - acc: 0.9677 - val_loss: 0.0491 - val_acc: 0.9825\n",
      "Epoch 19/100\n",
      "341/341 [==============================] - 0s 146us/step - loss: 0.0902 - acc: 0.9677 - val_loss: 0.0507 - val_acc: 0.9854\n",
      "Epoch 20/100\n",
      "341/341 [==============================] - 0s 211us/step - loss: 0.0909 - acc: 0.9648 - val_loss: 0.0522 - val_acc: 0.9854\n",
      "Epoch 21/100\n",
      "341/341 [==============================] - 0s 176us/step - loss: 0.0877 - acc: 0.9707 - val_loss: 0.0486 - val_acc: 0.9854\n",
      "Epoch 22/100\n",
      "341/341 [==============================] - 0s 169us/step - loss: 0.0861 - acc: 0.9677 - val_loss: 0.0475 - val_acc: 0.9825\n",
      "Epoch 23/100\n",
      "341/341 [==============================] - 0s 170us/step - loss: 0.0872 - acc: 0.9707 - val_loss: 0.0493 - val_acc: 0.9854\n",
      "Epoch 24/100\n",
      "341/341 [==============================] - 0s 422us/step - loss: 0.0844 - acc: 0.9707 - val_loss: 0.0470 - val_acc: 0.9825\n",
      "Epoch 25/100\n",
      "341/341 [==============================] - 0s 165us/step - loss: 0.0819 - acc: 0.9707 - val_loss: 0.0495 - val_acc: 0.9854\n",
      "Epoch 26/100\n",
      "341/341 [==============================] - 0s 177us/step - loss: 0.0823 - acc: 0.9736 - val_loss: 0.0493 - val_acc: 0.9854\n",
      "Epoch 27/100\n",
      "341/341 [==============================] - 0s 176us/step - loss: 0.0814 - acc: 0.9736 - val_loss: 0.0477 - val_acc: 0.9854\n",
      "Epoch 28/100\n",
      "341/341 [==============================] - 0s 176us/step - loss: 0.0785 - acc: 0.9707 - val_loss: 0.0477 - val_acc: 0.9825\n",
      "Epoch 29/100\n",
      "341/341 [==============================] - 0s 176us/step - loss: 0.0829 - acc: 0.9589 - val_loss: 0.0529 - val_acc: 0.9825\n",
      "Epoch 30/100\n",
      "341/341 [==============================] - 0s 188us/step - loss: 0.0781 - acc: 0.9736 - val_loss: 0.0488 - val_acc: 0.9854\n",
      "Epoch 31/100\n",
      "341/341 [==============================] - 0s 191us/step - loss: 0.0772 - acc: 0.9736 - val_loss: 0.0479 - val_acc: 0.9854\n",
      "Epoch 32/100\n",
      "341/341 [==============================] - 0s 157us/step - loss: 0.0764 - acc: 0.9765 - val_loss: 0.0454 - val_acc: 0.9854\n",
      "Epoch 33/100\n",
      "341/341 [==============================] - 0s 188us/step - loss: 0.0753 - acc: 0.9707 - val_loss: 0.0497 - val_acc: 0.9825\n",
      "Epoch 34/100\n",
      "341/341 [==============================] - 0s 152us/step - loss: 0.0808 - acc: 0.9765 - val_loss: 0.0466 - val_acc: 0.9825\n",
      "Epoch 35/100\n",
      "341/341 [==============================] - 0s 152us/step - loss: 0.0716 - acc: 0.9765 - val_loss: 0.0477 - val_acc: 0.9854\n",
      "Epoch 36/100\n",
      "341/341 [==============================] - 0s 156us/step - loss: 0.0695 - acc: 0.9765 - val_loss: 0.0490 - val_acc: 0.9825\n",
      "Epoch 37/100\n",
      "341/341 [==============================] - 0s 151us/step - loss: 0.0704 - acc: 0.9765 - val_loss: 0.0478 - val_acc: 0.9825\n",
      "Epoch 38/100\n",
      "341/341 [==============================] - 0s 155us/step - loss: 0.0705 - acc: 0.9765 - val_loss: 0.0486 - val_acc: 0.9825\n",
      "Epoch 39/100\n",
      "341/341 [==============================] - 0s 184us/step - loss: 0.0673 - acc: 0.9736 - val_loss: 0.0474 - val_acc: 0.9825\n",
      "Epoch 40/100\n",
      "341/341 [==============================] - 0s 164us/step - loss: 0.0667 - acc: 0.9765 - val_loss: 0.0488 - val_acc: 0.9825\n",
      "Epoch 41/100\n",
      "341/341 [==============================] - 0s 176us/step - loss: 0.0676 - acc: 0.9765 - val_loss: 0.0532 - val_acc: 0.9825\n",
      "Epoch 42/100\n",
      "341/341 [==============================] - 0s 191us/step - loss: 0.0664 - acc: 0.9765 - val_loss: 0.0486 - val_acc: 0.9795\n",
      "Epoch 43/100\n",
      "341/341 [==============================] - 0s 176us/step - loss: 0.0649 - acc: 0.9765 - val_loss: 0.0483 - val_acc: 0.9825\n",
      "Epoch 44/100\n",
      "341/341 [==============================] - 0s 176us/step - loss: 0.0633 - acc: 0.9765 - val_loss: 0.0491 - val_acc: 0.9825\n",
      "Epoch 45/100\n",
      "341/341 [==============================] - 0s 188us/step - loss: 0.0612 - acc: 0.9765 - val_loss: 0.0528 - val_acc: 0.9825\n",
      "Epoch 46/100\n",
      "341/341 [==============================] - 0s 176us/step - loss: 0.0612 - acc: 0.9736 - val_loss: 0.0493 - val_acc: 0.9795\n",
      "Epoch 47/100\n",
      "341/341 [==============================] - 0s 183us/step - loss: 0.0610 - acc: 0.9795 - val_loss: 0.0513 - val_acc: 0.9825\n",
      "Epoch 48/100\n",
      "341/341 [==============================] - 0s 170us/step - loss: 0.0585 - acc: 0.9765 - val_loss: 0.0505 - val_acc: 0.9795\n",
      "Epoch 49/100\n",
      "341/341 [==============================] - 0s 188us/step - loss: 0.0569 - acc: 0.9795 - val_loss: 0.0556 - val_acc: 0.9825\n",
      "Epoch 50/100\n",
      "341/341 [==============================] - 0s 182us/step - loss: 0.0583 - acc: 0.9765 - val_loss: 0.0516 - val_acc: 0.9825\n",
      "Epoch 51/100\n",
      "341/341 [==============================] - 0s 164us/step - loss: 0.0566 - acc: 0.9765 - val_loss: 0.0537 - val_acc: 0.9825\n",
      "Epoch 52/100\n",
      "341/341 [==============================] - 0s 152us/step - loss: 0.0553 - acc: 0.9765 - val_loss: 0.0537 - val_acc: 0.9825\n",
      "Epoch 53/100\n",
      "341/341 [==============================] - 0s 164us/step - loss: 0.0544 - acc: 0.9795 - val_loss: 0.0568 - val_acc: 0.9766\n",
      "Epoch 54/100\n",
      "341/341 [==============================] - 0s 176us/step - loss: 0.0552 - acc: 0.9765 - val_loss: 0.0551 - val_acc: 0.9825\n",
      "Epoch 55/100\n",
      "341/341 [==============================] - 0s 164us/step - loss: 0.0525 - acc: 0.9824 - val_loss: 0.0555 - val_acc: 0.9825\n",
      "Epoch 56/100\n",
      "341/341 [==============================] - 0s 176us/step - loss: 0.0517 - acc: 0.9765 - val_loss: 0.0554 - val_acc: 0.9795\n",
      "Epoch 57/100\n",
      "341/341 [==============================] - 0s 176us/step - loss: 0.0523 - acc: 0.9795 - val_loss: 0.0551 - val_acc: 0.9825\n",
      "Epoch 58/100\n",
      "341/341 [==============================] - 0s 152us/step - loss: 0.0507 - acc: 0.9824 - val_loss: 0.0575 - val_acc: 0.9825\n",
      "Epoch 59/100\n",
      "341/341 [==============================] - 0s 152us/step - loss: 0.0493 - acc: 0.9795 - val_loss: 0.0548 - val_acc: 0.9795\n",
      "Epoch 60/100\n",
      "341/341 [==============================] - 0s 152us/step - loss: 0.0507 - acc: 0.9824 - val_loss: 0.0547 - val_acc: 0.9795\n"
     ]
    },
    {
     "name": "stdout",
     "output_type": "stream",
     "text": [
      "Epoch 61/100\n",
      "341/341 [==============================] - 0s 155us/step - loss: 0.0492 - acc: 0.9824 - val_loss: 0.0619 - val_acc: 0.9795\n",
      "Epoch 62/100\n",
      "341/341 [==============================] - 0s 141us/step - loss: 0.0460 - acc: 0.9795 - val_loss: 0.0587 - val_acc: 0.9737\n",
      "Epoch 63/100\n",
      "341/341 [==============================] - 0s 152us/step - loss: 0.0453 - acc: 0.9795 - val_loss: 0.0602 - val_acc: 0.9737\n",
      "Epoch 64/100\n",
      "341/341 [==============================] - 0s 129us/step - loss: 0.0449 - acc: 0.9795 - val_loss: 0.0615 - val_acc: 0.9795\n",
      "Epoch 65/100\n",
      "341/341 [==============================] - 0s 130us/step - loss: 0.0449 - acc: 0.9824 - val_loss: 0.0597 - val_acc: 0.9766\n",
      "Epoch 66/100\n",
      "341/341 [==============================] - 0s 157us/step - loss: 0.0434 - acc: 0.9853 - val_loss: 0.0622 - val_acc: 0.9737\n",
      "Epoch 67/100\n",
      "341/341 [==============================] - 0s 152us/step - loss: 0.0409 - acc: 0.9853 - val_loss: 0.0682 - val_acc: 0.9795\n",
      "Epoch 68/100\n",
      "341/341 [==============================] - 0s 177us/step - loss: 0.0440 - acc: 0.9795 - val_loss: 0.0621 - val_acc: 0.9795\n",
      "Epoch 69/100\n",
      "341/341 [==============================] - 0s 152us/step - loss: 0.0405 - acc: 0.9795 - val_loss: 0.0650 - val_acc: 0.9795\n",
      "Epoch 70/100\n",
      "341/341 [==============================] - 0s 141us/step - loss: 0.0395 - acc: 0.9853 - val_loss: 0.0755 - val_acc: 0.9795\n",
      "Epoch 71/100\n",
      "341/341 [==============================] - 0s 152us/step - loss: 0.0398 - acc: 0.9824 - val_loss: 0.0629 - val_acc: 0.9737\n",
      "Epoch 72/100\n",
      "341/341 [==============================] - 0s 164us/step - loss: 0.0399 - acc: 0.9853 - val_loss: 0.0695 - val_acc: 0.9766\n",
      "Epoch 73/100\n",
      "341/341 [==============================] - 0s 142us/step - loss: 0.0361 - acc: 0.9883 - val_loss: 0.0672 - val_acc: 0.9766\n",
      "Epoch 74/100\n",
      "341/341 [==============================] - 0s 164us/step - loss: 0.0364 - acc: 0.9824 - val_loss: 0.0713 - val_acc: 0.9766\n",
      "Epoch 75/100\n",
      "341/341 [==============================] - 0s 141us/step - loss: 0.0338 - acc: 0.9883 - val_loss: 0.0725 - val_acc: 0.9795\n",
      "Epoch 76/100\n",
      "341/341 [==============================] - 0s 152us/step - loss: 0.0329 - acc: 0.9883 - val_loss: 0.0744 - val_acc: 0.9795\n",
      "Epoch 77/100\n",
      "341/341 [==============================] - 0s 141us/step - loss: 0.0332 - acc: 0.9912 - val_loss: 0.0716 - val_acc: 0.9766\n",
      "Epoch 78/100\n",
      "341/341 [==============================] - 0s 141us/step - loss: 0.0308 - acc: 0.9912 - val_loss: 0.0779 - val_acc: 0.9795\n",
      "Epoch 79/100\n",
      "341/341 [==============================] - 0s 152us/step - loss: 0.0336 - acc: 0.9824 - val_loss: 0.0695 - val_acc: 0.9766\n",
      "Epoch 80/100\n",
      "341/341 [==============================] - 0s 152us/step - loss: 0.0321 - acc: 0.9912 - val_loss: 0.0778 - val_acc: 0.9795\n",
      "Epoch 81/100\n",
      "341/341 [==============================] - 0s 141us/step - loss: 0.0303 - acc: 0.9912 - val_loss: 0.0805 - val_acc: 0.9795\n",
      "Epoch 82/100\n",
      "341/341 [==============================] - 0s 141us/step - loss: 0.0305 - acc: 0.9883 - val_loss: 0.0782 - val_acc: 0.9795\n",
      "Epoch 83/100\n",
      "341/341 [==============================] - 0s 141us/step - loss: 0.0275 - acc: 0.9912 - val_loss: 0.0800 - val_acc: 0.9766\n",
      "Epoch 84/100\n",
      "341/341 [==============================] - 0s 164us/step - loss: 0.0282 - acc: 0.9912 - val_loss: 0.0845 - val_acc: 0.9766\n",
      "Epoch 85/100\n",
      "341/341 [==============================] - 0s 164us/step - loss: 0.0259 - acc: 0.9912 - val_loss: 0.0835 - val_acc: 0.9766\n",
      "Epoch 86/100\n",
      "341/341 [==============================] - 0s 149us/step - loss: 0.0252 - acc: 0.9912 - val_loss: 0.0867 - val_acc: 0.9795\n",
      "Epoch 87/100\n",
      "341/341 [==============================] - 0s 164us/step - loss: 0.0244 - acc: 0.9912 - val_loss: 0.0844 - val_acc: 0.9766\n",
      "Epoch 88/100\n",
      "341/341 [==============================] - 0s 153us/step - loss: 0.0244 - acc: 0.9941 - val_loss: 0.0904 - val_acc: 0.9766\n",
      "Epoch 89/100\n",
      "341/341 [==============================] - 0s 141us/step - loss: 0.0231 - acc: 0.9941 - val_loss: 0.0866 - val_acc: 0.9766\n",
      "Epoch 90/100\n",
      "341/341 [==============================] - 0s 164us/step - loss: 0.0237 - acc: 0.9941 - val_loss: 0.0883 - val_acc: 0.9766\n",
      "Epoch 91/100\n",
      "341/341 [==============================] - 0s 150us/step - loss: 0.0232 - acc: 0.9912 - val_loss: 0.0868 - val_acc: 0.9766\n",
      "Epoch 92/100\n",
      "341/341 [==============================] - 0s 141us/step - loss: 0.0219 - acc: 0.9971 - val_loss: 0.0909 - val_acc: 0.9795\n",
      "Epoch 93/100\n",
      "341/341 [==============================] - 0s 152us/step - loss: 0.0221 - acc: 0.9941 - val_loss: 0.0862 - val_acc: 0.9766\n",
      "Epoch 94/100\n",
      "341/341 [==============================] - 0s 141us/step - loss: 0.0197 - acc: 0.9971 - val_loss: 0.0964 - val_acc: 0.9766\n",
      "Epoch 95/100\n",
      "341/341 [==============================] - 0s 164us/step - loss: 0.0199 - acc: 0.9971 - val_loss: 0.0938 - val_acc: 0.9766\n",
      "Epoch 96/100\n",
      "341/341 [==============================] - 0s 167us/step - loss: 0.0197 - acc: 0.9941 - val_loss: 0.1025 - val_acc: 0.9766\n",
      "Epoch 97/100\n",
      "341/341 [==============================] - 0s 129us/step - loss: 0.0201 - acc: 0.9971 - val_loss: 0.1050 - val_acc: 0.9766\n",
      "Epoch 98/100\n",
      "341/341 [==============================] - 0s 152us/step - loss: 0.0198 - acc: 0.9971 - val_loss: 0.1025 - val_acc: 0.9766\n",
      "Epoch 99/100\n",
      "341/341 [==============================] - 0s 141us/step - loss: 0.0184 - acc: 0.9971 - val_loss: 0.1025 - val_acc: 0.9766\n",
      "Epoch 100/100\n",
      "341/341 [==============================] - 0s 146us/step - loss: 0.0172 - acc: 0.9971 - val_loss: 0.1053 - val_acc: 0.9766\n"
     ]
    }
   ],
   "source": [
    "history=model.fit(BreastCancerTissue, Y_categorical, validation_split=0.5, epochs=100, batch_size=12)"
   ]
  },
  {
   "cell_type": "markdown",
   "metadata": {},
   "source": [
    "Objek histori dikembalikan dari panggilan ke fungsi fit () yang digunakan untuk train model.\n",
    "\n",
    "       * Epoch = adalah ketika seluruh dataset sudah melalui proses training pada Neural Netwok sampai dikembalikan ke awal \n",
    "                 untuk sekali putaran (backpropagation). \n",
    "\n",
    "       * Batch Size 12 = adalah jumlah sampel data yang disebarkan ke Neural Network. Jadi dataset akan dibagi menjadi 12 \n",
    "                         bagian untuk memudahkan index pada saat pelatihan. \n",
    "\n",
    "       * Validation Split 0.5 = Adalah ukuran data yang akan digunakan untuk testing dan training, data training sebesar 0,5 \n",
    "                                atau 50%, dan data testing sebesar 0,5 atau 50%."
   ]
  },
  {
   "cell_type": "code",
   "execution_count": 13,
   "metadata": {
    "scrolled": true
   },
   "outputs": [
    {
     "data": {
      "text/plain": [
       "array([[9.9999940e-01, 5.5263610e-07],\n",
       "       [6.9275022e-01, 3.0724978e-01],\n",
       "       [9.9999988e-01, 1.2703983e-07],\n",
       "       ...,\n",
       "       [4.7585159e-04, 9.9952412e-01],\n",
       "       [1.3898490e-02, 9.8610151e-01],\n",
       "       [7.5352546e-05, 9.9992466e-01]], dtype=float32)"
      ]
     },
     "execution_count": 13,
     "metadata": {},
     "output_type": "execute_result"
    }
   ],
   "source": [
    "predict = model.predict(BreastCancerTissue)\n",
    "predict"
   ]
  },
  {
   "cell_type": "markdown",
   "metadata": {},
   "source": [
    "Parameter pertama menjadi array numpy, menyediakan daftar yang tidak memiliki atribut bentuk yang memiliki array numpy."
   ]
  },
  {
   "cell_type": "code",
   "execution_count": 14,
   "metadata": {},
   "outputs": [
    {
     "name": "stdout",
     "output_type": "stream",
     "text": [
      "683/683 [==============================] - 0s 18us/step\n",
      "\n",
      "acc: 98.83%\n"
     ]
    }
   ],
   "source": [
    "scores = model.evaluate(BreastCancerTissue, Y_categorical)\n",
    "print(\"\\n%s: %.2f%%\" % (model.metrics_names[1], scores[1]*100))"
   ]
  },
  {
   "cell_type": "code",
   "execution_count": 15,
   "metadata": {},
   "outputs": [],
   "source": [
    "from sklearn.metrics import confusion_matrix\n",
    "cm = confusion_matrix(Y_categorical.argmax(axis=1),predict.argmax(axis=1))"
   ]
  },
  {
   "cell_type": "code",
   "execution_count": 16,
   "metadata": {},
   "outputs": [
    {
     "data": {
      "text/plain": [
       "array([[437,   7],\n",
       "       [  1, 238]], dtype=int64)"
      ]
     },
     "execution_count": 16,
     "metadata": {},
     "output_type": "execute_result"
    }
   ],
   "source": [
    "cm"
   ]
  },
  {
   "attachments": {
    "1_Z54JgbS4DUwWSknhDCvNTQ.png": {
     "image/png": "[encoded data removed]"
    }
   },
   "cell_type": "markdown",
   "metadata": {},
   "source": [
    "Confusion matrix = Untuk melakukan perhitungan akurasi pada konsep data mining.\n",
    "![1_Z54JgbS4DUwWSknhDCvNTQ.png](attachment:1_Z54JgbS4DUwWSknhDCvNTQ.png)"
   ]
  },
  {
   "cell_type": "code",
   "execution_count": 17,
   "metadata": {},
   "outputs": [
    {
     "name": "stdout",
     "output_type": "stream",
     "text": [
      "\n",
      "Akurasi : 98.68%\n"
     ]
    }
   ],
   "source": [
    "ac = ((436+238)/(436+238+8+1))\n",
    "print(\"\\n%s: %.2f%%\" % (\"Akurasi \", ac*100))"
   ]
  },
  {
   "attachments": {
    "2018-12-06%20%2811%29.png": {
     "image/png": "[encoded data removed]"
    }
   },
   "cell_type": "markdown",
   "metadata": {},
   "source": [
    "Rumus untuk mencari akurasi berdasarkan Confusion Matrix :\n",
    "![2018-12-06%20%2811%29.png](attachment:2018-12-06%20%2811%29.png)"
   ]
  },
  {
   "cell_type": "code",
   "execution_count": 18,
   "metadata": {},
   "outputs": [
    {
     "name": "stdout",
     "output_type": "stream",
     "text": [
      "\n",
      "Presisi: 98.20%\n"
     ]
    }
   ],
   "source": [
    "prec = ((436)/(8+436))\n",
    "print(\"\\n%s: %.2f%%\" %(\"Presisi\", prec*100))"
   ]
  },
  {
   "attachments": {
    "2018-12-06%20%285%29.png": {
     "image/png": "[encoded data removed]"
    }
   },
   "cell_type": "markdown",
   "metadata": {},
   "source": [
    "Rumus untuk mencari presisi berdasarkan Confusion Matrix :\n",
    "![2018-12-06%20%285%29.png](attachment:2018-12-06%20%285%29.png)"
   ]
  },
  {
   "cell_type": "code",
   "execution_count": 19,
   "metadata": {},
   "outputs": [
    {
     "name": "stdout",
     "output_type": "stream",
     "text": [
      "\n",
      "Recall: 99.77%\n"
     ]
    }
   ],
   "source": [
    "rec = ((436)/(1+436))\n",
    "print(\"\\n%s: %.2f%%\" %(\"Recall\", rec*100))"
   ]
  },
  {
   "attachments": {
    "2018-12-06%20%286%29.png": {
     "image/png": "[encoded data removed]"
    }
   },
   "cell_type": "markdown",
   "metadata": {},
   "source": [
    "Rumus untuk mencari recall berdasarkan Confusion Matrix :\n",
    "![2018-12-06%20%286%29.png](attachment:2018-12-06%20%286%29.png)"
   ]
  },
  {
   "cell_type": "code",
   "execution_count": 20,
   "metadata": {},
   "outputs": [
    {
     "name": "stdout",
     "output_type": "stream",
     "text": [
      "\n",
      "Skor True Negative Rate: 0.02%\n"
     ]
    }
   ],
   "source": [
    "TNR = ((8)/(436+8))\n",
    "print(\"\\n%s: %.2f%%\" %(\"Skor True Negative Rate\", TNR))"
   ]
  },
  {
   "cell_type": "code",
   "execution_count": 21,
   "metadata": {},
   "outputs": [],
   "source": [
    "acc = history.history['acc']\n",
    "val_acc = history.history['val_acc']\n",
    "loss = history.history['loss']\n",
    "val_loss = history.history['val_loss']\n",
    "epochs = range(1, len(acc) + 1)"
   ]
  },
  {
   "cell_type": "code",
   "execution_count": 22,
   "metadata": {},
   "outputs": [
    {
     "data": {
      "image/png": "[encoded data removed]",
      "text/plain": [
       "<Figure size 432x288 with 1 Axes>"
      ]
     },
     "metadata": {},
     "output_type": "display_data"
    },
    {
     "data": {
      "image/png": "[encoded data removed]",
      "text/plain": [
       "<Figure size 432x288 with 1 Axes>"
      ]
     },
     "metadata": {},
     "output_type": "display_data"
    }
   ],
   "source": [
    "plt.plot(epochs, acc, 'b',color='green', label='Akurasi Training')\n",
    "plt.plot(epochs, val_acc, 'b',color='red', label='Akurasi Testing')\n",
    "plt.title('Akurasi Training dan Testing')\n",
    "plt.legend()\n",
    "plt.show()\n",
    "plt.plot(epochs, loss, 'b',color='green', label='Training loss')\n",
    "plt.plot(epochs, val_loss, 'b',color='red', label='Testing loss')\n",
    "plt.title('Training and Testing loss')\n",
    "plt.legend()\n",
    "plt.show()"
   ]
  },
  {
   "cell_type": "code",
   "execution_count": null,
   "metadata": {},
   "outputs": [],
   "source": []
  }
 ],
 "metadata": {
  "kernelspec": {
   "display_name": "Python 3",
   "language": "python",
   "name": "python3"
  },
  "language_info": {
   "codemirror_mode": {
    "name": "ipython",
    "version": 3
   },
   "file_extension": ".py",
   "mimetype": "text/x-python",
   "name": "python",
   "nbconvert_exporter": "python",
   "pygments_lexer": "ipython3",
   "version": "3.6.5"
  }
 },
 "nbformat": 4,
 "nbformat_minor": 2
}
